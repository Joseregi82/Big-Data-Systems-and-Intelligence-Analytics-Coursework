{
 "cells": [
  {
   "cell_type": "markdown",
   "metadata": {
    "collapsed": true
   },
   "source": [
    "# Music Generation using RNN-RBM and Tensorflow\n",
    "\n"
   ]
  },
  {
   "cell_type": "code",
   "execution_count": 11,
   "metadata": {
    "collapsed": true
   },
   "outputs": [],
   "source": [
    "# import of python libraries\n",
    "import numpy as np\n",
    "import pandas as pd\n",
    "import glob\n",
    "import tensorflow as tf\n",
    "from tensorflow.python.ops import control_flow_ops\n",
    "from tqdm import tqdm\n",
    "import midi_manipulation\n",
    "import os\n",
    "os.environ['TF_CPP_MIN_LOG_LEVEL'] = '2'"
   ]
  },
  {
   "cell_type": "code",
   "execution_count": 12,
   "metadata": {},
   "outputs": [
    {
     "name": "stderr",
     "output_type": "stream",
     "text": [
      "100%|██████████████████████████████████████████████████████████████████████████████████| 88/88 [00:04<00:00, 19.63it/s]\n"
     ]
    },
    {
     "name": "stdout",
     "output_type": "stream",
     "text": [
      "84 songs processed\n"
     ]
    }
   ],
   "source": [
    "# reading the train dataset from this path\n",
    "path=\"C:\\\\Users\\\\chels\\\\Pop_Music_Midi\"\n",
    "files=glob.glob('{}/*.*mid*'.format(path))\n",
    "songs=[]\n",
    "for f in tqdm(files):\n",
    "            song = np.array(midi_manipulation.midiToNoteStateMatrix(f))\n",
    "            if np.array(song).shape[0] > 50:\n",
    "                songs.append(song)\n",
    "print(\"{} songs processed\".format(len(songs)))"
   ]
  },
  {
   "cell_type": "code",
   "execution_count": 14,
   "metadata": {},
   "outputs": [
    {
     "name": "stdout",
     "output_type": "stream",
     "text": [
      "Lowest note 24\n",
      "Highest note 102\n",
      "note range 78\n"
     ]
    }
   ],
   "source": [
    "# finding the note_range as the difference between 2 nodes\n",
    "\n",
    "lowest_note = midi_manipulation.lowerBound  # the index of the lowest note on the piano roll\n",
    "print(\"Lowest note\", lowest_note)\n",
    "highest_note = midi_manipulation.upperBound  # the index of the highest note on the piano roll\n",
    "print(\"Highest note\", highest_note)\n",
    "note_range = highest_note - lowest_note  # the note range\n",
    "print(\"note range\", note_range)\n",
    "\n",
    "num_timesteps = 30  # This is the number of timesteps that we will create at a time\n",
    "n_visible = 2 * note_range * num_timesteps  # This is the size of the visible layer.\n",
    "n_hidden = 100  # This is the size of the hidden layer"
   ]
  },
  {
   "cell_type": "code",
   "execution_count": 15,
   "metadata": {
    "collapsed": true
   },
   "outputs": [],
   "source": [
    "num_epochs = 200  # The number of training epochs that we are going to run.\n",
    "# For each epoch we go through the entire data set.\n",
    "batch_size = 100  # The number of training examples that we are going to send through the RBM at a time.\n",
    "lr = tf.constant(0.005, tf.float32)  # The learning rate of our model"
   ]
  },
  {
   "cell_type": "code",
   "execution_count": 16,
   "metadata": {},
   "outputs": [
    {
     "name": "stdout",
     "output_type": "stream",
     "text": [
      "placeholder Tensor(\"x_1:0\", shape=(?, 4680), dtype=float32)\n",
      "Edge weights <tf.Variable 'W_1:0' shape=(4680, 100) dtype=float32_ref>\n",
      "Hidden Bias <tf.Variable 'Variable_2:0' shape=(1, 100) dtype=float32_ref>\n",
      "Visible Bias <tf.Variable 'Variable_3:0' shape=(1, 4680) dtype=float32_ref>\n"
     ]
    }
   ],
   "source": [
    "# Variables:\n",
    "# Next, let's look at the variables we're going to use:\n",
    "# The placeholder variable that holds our data\n",
    "x = tf.placeholder(tf.float32, [None, n_visible], name=\"x\")\n",
    "print(\"placeholder\",x)\n",
    "# The weight matrix that stores the edge weights\n",
    "W = tf.Variable(tf.random_normal([n_visible, n_hidden], 0.01), name=\"W\")\n",
    "print(\"Edge weights\", W)\n",
    "# The bias vector for the hidden layer\n",
    "bh = tf.Variable(tf.zeros([1, n_hidden], tf.float32, name=\"bh\"))\n",
    "print(\"Hidden Bias\", bh)\n",
    "# The bias vector for the visible layer\n",
    "bv = tf.Variable(tf.zeros([1, n_visible], tf.float32, name=\"bv\"))\n",
    "print(\"Visible Bias\", bv)"
   ]
  },
  {
   "cell_type": "code",
   "execution_count": 17,
   "metadata": {
    "collapsed": true
   },
   "outputs": [],
   "source": [
    "# Helper functions.\n",
    "# This function lets us easily sample from a vector of probabilities\n",
    "def sample(probs):\n",
    "    # Takes in a vector of probabilities, and returns a random vector of 0s and 1s sampled from the input vector\n",
    "    return tf.floor(probs + tf.random_uniform(tf.shape(probs), 0, 1))"
   ]
  },
  {
   "cell_type": "code",
   "execution_count": 18,
   "metadata": {
    "collapsed": true
   },
   "outputs": [],
   "source": [
    "# This function runs the gibbs chain. We will call this function in two places:\n",
    "#    - When we define the training update step\n",
    "#    - When we sample our music segments from the trained RBM\n",
    "def gibbs_sample(k):\n",
    "    # Runs a k-step gibbs chain to sample from the probability distribution of the RBM defined by W, bh, bv\n",
    "    def gibbs_step(count, k, xk):\n",
    "        # Runs a single gibbs step. The visible values are initialized to xk\n",
    "        hk = sample(tf.sigmoid(tf.matmul(xk, W) + bh))  # Propagate the visible values to sample the hidden values\n",
    "        xk = sample(\n",
    "            tf.sigmoid(tf.matmul(hk, tf.transpose(W)) + bv))  # Propagate the hidden values to sample the visible values\n",
    "        return count + 1, k, xk# Run gibbs steps for k iterations\n",
    "    ct = tf.constant(0)  # counter\n",
    "    [_, _, x_sample] = control_flow_ops.while_loop(lambda count, num_iter, *args: count < num_iter,\n",
    "                                                   gibbs_step, [ct, tf.constant(k), x])\n",
    "    # This is not strictly necessary in this implementation,\n",
    "    # but if you want to adapt this code to use one of TensorFlow's\n",
    "    # optimizers, you need this in order to stop tensorflow from propagating gradients back through the gibbs step\n",
    "    x_sample = tf.stop_gradient(x_sample)\n",
    "    return x_sample\n"
   ]
  },
  {
   "cell_type": "code",
   "execution_count": 19,
   "metadata": {},
   "outputs": [
    {
     "name": "stdout",
     "output_type": "stream",
     "text": [
      "X sample Tensor(\"StopGradient_2:0\", shape=(?, 4680), dtype=float32)\n",
      "Hidden sample Tensor(\"Floor_2:0\", shape=(?, 100), dtype=float32)\n",
      "Visible sample Tensor(\"Floor_3:0\", shape=(?, 100), dtype=float32)\n"
     ]
    }
   ],
   "source": [
    "# Training Update Code\n",
    "# Now we implement the contrastive divergence algorithm.\n",
    "# First, we get the samples of x and h from the probability distribution\n",
    "# The sample of x\n",
    "x_sample = gibbs_sample(1)\n",
    "print(\"X sample\", x_sample)\n",
    "# The sample of the hidden nodes, starting from the visible state of x\n",
    "h = sample(tf.sigmoid(tf.matmul(x, W) + bh))\n",
    "print(\"Hidden sample\", h)\n",
    "# The sample of the hidden nodes, starting from the visible state of x_sample\n",
    "h_sample = sample(tf.sigmoid(tf.matmul(x_sample, W) + bh))\n",
    "print(\"Visible sample\", h_sample)"
   ]
  },
  {
   "cell_type": "code",
   "execution_count": 20,
   "metadata": {},
   "outputs": [
    {
     "name": "stdout",
     "output_type": "stream",
     "text": [
      "[<tf.Tensor 'AssignAdd_3:0' shape=(4680, 100) dtype=float32_ref>, <tf.Tensor 'AssignAdd_4:0' shape=(1, 4680) dtype=float32_ref>, <tf.Tensor 'AssignAdd_5:0' shape=(1, 100) dtype=float32_ref>]\n"
     ]
    }
   ],
   "source": [
    "# Next, we update the values of W, bh, and bv,\n",
    "# based on the difference between the samples that we drew and the original values\n",
    "size_bt = tf.cast(tf.shape(x)[0], tf.float32)\n",
    "W_adder = tf.multiply(lr / size_bt,\n",
    "                      tf.subtract(tf.matmul(tf.transpose(x), h), tf.matmul(tf.transpose(x_sample), h_sample)))\n",
    "bv_adder = tf.multiply(lr / size_bt, tf.reduce_sum(tf.subtract(x, x_sample), 0, True))\n",
    "bh_adder = tf.multiply(lr / size_bt, tf.reduce_sum(tf.subtract(h, h_sample), 0, True))\n",
    "# When we do sess.run(updt), TensorFlow will run all 3 update steps\n",
    "updt = [W.assign_add(W_adder), bv.assign_add(bv_adder), bh.assign_add(bh_adder)]\n",
    "print(updt)"
   ]
  },
  {
   "cell_type": "code",
   "execution_count": 21,
   "metadata": {},
   "outputs": [
    {
     "name": "stderr",
     "output_type": "stream",
     "text": [
      "100%|████████████████████████████████████████████████████████████████████████████████| 200/200 [02:02<00:00,  1.63it/s]\n"
     ]
    }
   ],
   "source": [
    "# Run the graph!\n",
    "# Now it's time to start a session and run the graph! \n",
    "\n",
    "with tf.Session() as sess:\n",
    "    # First, we train the model\n",
    "    # initialize the variables of the model\n",
    "    init = tf.global_variables_initializer()\n",
    "    sess.run(init)\n",
    "    # Run through all of the training data num_epochs times\n",
    "    for epoch in tqdm(range(num_epochs)):\n",
    "        for song in songs:\n",
    "            # The songs are stored in a time x notes format. The size of each song is timesteps_in_song x 2*note_range\n",
    "            # Here we reshape the songs so that each training example\n",
    "            # is a vector with num_timesteps x 2*note_range elements\n",
    "            song = np.array(song)\n",
    "            song = song[:int(np.floor(song.shape[0] // num_timesteps) * num_timesteps)]\n",
    "            song = np.reshape(song, [song.shape[0] // num_timesteps, song.shape[1] * num_timesteps])\n",
    "            # Train the RBM on batch_size examples at a time\n",
    "            for i in range(1, len(song), batch_size):\n",
    "                tr_x = song[i:i + batch_size]\n",
    "                sess.run(updt, feed_dict={x: tr_x})\n",
    "\n",
    "    # Now the model is fully trained, so let's make some music!\n",
    "    # Run a gibbs chain where the visible nodes are initialized to 0\n",
    "    sample = gibbs_sample(1).eval(session=sess, feed_dict={x: np.zeros((10, n_visible))})\n",
    "    for i in range(sample.shape[0]):\n",
    "        if not any(sample[i, :]):\n",
    "            continue\n",
    "        # Here we reshape the vector to be time x notes, and then save the vector as a midi file\n",
    "        S = np.reshape(sample[i, :], (num_timesteps, 2 * note_range))\n",
    "        midi_manipulation.noteStateMatrixToMidi(S, \"pop30/generated_chord_{}\".format(i))"
   ]
  },
  {
   "cell_type": "code",
   "execution_count": null,
   "metadata": {
    "collapsed": true
   },
   "outputs": [],
   "source": []
  }
 ],
 "metadata": {
  "kernelspec": {
   "display_name": "Python 3",
   "language": "python",
   "name": "python3"
  },
  "language_info": {
   "codemirror_mode": {
    "name": "ipython",
    "version": 3
   },
   "file_extension": ".py",
   "mimetype": "text/x-python",
   "name": "python",
   "nbconvert_exporter": "python",
   "pygments_lexer": "ipython3",
   "version": "3.6.1"
  }
 },
 "nbformat": 4,
 "nbformat_minor": 2
}
